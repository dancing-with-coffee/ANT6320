{
 "cells": [
  {
   "cell_type": "markdown",
   "metadata": {},
   "source": [
    "# IMDB"
   ]
  },
  {
   "cell_type": "code",
   "execution_count": 1,
   "metadata": {},
   "outputs": [],
   "source": [
    "%reload_ext autoreload\n",
    "%autoreload 2\n",
    "%matplotlib inline"
   ]
  },
  {
   "cell_type": "code",
   "execution_count": 2,
   "metadata": {},
   "outputs": [],
   "source": [
    "from fastai.text import *"
   ]
  },
  {
   "cell_type": "markdown",
   "metadata": {},
   "source": [
    "## Preparing the data"
   ]
  },
  {
   "cell_type": "markdown",
   "metadata": {},
   "source": [
    "First let's download the dataset we are going to study. The [dataset](http://ai.stanford.edu/~amaas/data/sentiment/) has been curated by Andrew Maas et al. and contains a total of 100,000 reviews on IMDB. 25,000 of them are labelled as positive and negative for training, another 25,000 are labelled for testing (in both cases they are highly polarized). The remaning 50,000 is an additional unlabelled data (but we will find a use for it nonetheless).\n",
    "\n",
    "We'll begin with a sample we've prepared for you, so that things run quickly before going over the full dataset."
   ]
  },
  {
   "cell_type": "code",
   "execution_count": 3,
   "metadata": {},
   "outputs": [
    {
     "data": {
      "text/plain": [
       "[PosixPath('/home/user/.fastai/data/imdb_sample/texts.csv'),\n",
       " PosixPath('/home/user/.fastai/data/imdb_sample/data_save.pkl')]"
      ]
     },
     "execution_count": 3,
     "metadata": {},
     "output_type": "execute_result"
    }
   ],
   "source": [
    "path = untar_data(URLs.IMDB_SAMPLE) # IMDB 데이터셋을 불러옵니다. 50000개중에 25000/25000이 postive/negative로 되어있다.\n",
    "path.ls()"
   ]
  },
  {
   "cell_type": "markdown",
   "metadata": {},
   "source": [
    "It only contains one csv file, let's have a look at it."
   ]
  },
  {
   "cell_type": "code",
   "execution_count": 4,
   "metadata": {},
   "outputs": [
    {
     "data": {
      "text/html": [
       "<div>\n",
       "<style scoped>\n",
       "    .dataframe tbody tr th:only-of-type {\n",
       "        vertical-align: middle;\n",
       "    }\n",
       "\n",
       "    .dataframe tbody tr th {\n",
       "        vertical-align: top;\n",
       "    }\n",
       "\n",
       "    .dataframe thead th {\n",
       "        text-align: right;\n",
       "    }\n",
       "</style>\n",
       "<table border=\"1\" class=\"dataframe\">\n",
       "  <thead>\n",
       "    <tr style=\"text-align: right;\">\n",
       "      <th></th>\n",
       "      <th>label</th>\n",
       "      <th>text</th>\n",
       "      <th>is_valid</th>\n",
       "    </tr>\n",
       "  </thead>\n",
       "  <tbody>\n",
       "    <tr>\n",
       "      <th>0</th>\n",
       "      <td>negative</td>\n",
       "      <td>Un-bleeping-believable! Meg Ryan doesn't even ...</td>\n",
       "      <td>False</td>\n",
       "    </tr>\n",
       "    <tr>\n",
       "      <th>1</th>\n",
       "      <td>positive</td>\n",
       "      <td>This is a extremely well-made film. The acting...</td>\n",
       "      <td>False</td>\n",
       "    </tr>\n",
       "    <tr>\n",
       "      <th>2</th>\n",
       "      <td>negative</td>\n",
       "      <td>Every once in a long while a movie will come a...</td>\n",
       "      <td>False</td>\n",
       "    </tr>\n",
       "    <tr>\n",
       "      <th>3</th>\n",
       "      <td>positive</td>\n",
       "      <td>Name just says it all. I watched this movie wi...</td>\n",
       "      <td>False</td>\n",
       "    </tr>\n",
       "    <tr>\n",
       "      <th>4</th>\n",
       "      <td>negative</td>\n",
       "      <td>This movie succeeds at being one of the most u...</td>\n",
       "      <td>False</td>\n",
       "    </tr>\n",
       "  </tbody>\n",
       "</table>\n",
       "</div>"
      ],
      "text/plain": [
       "      label                                               text  is_valid\n",
       "0  negative  Un-bleeping-believable! Meg Ryan doesn't even ...     False\n",
       "1  positive  This is a extremely well-made film. The acting...     False\n",
       "2  negative  Every once in a long while a movie will come a...     False\n",
       "3  positive  Name just says it all. I watched this movie wi...     False\n",
       "4  negative  This movie succeeds at being one of the most u...     False"
      ]
     },
     "execution_count": 4,
     "metadata": {},
     "output_type": "execute_result"
    }
   ],
   "source": [
    "df = pd.read_csv(path/'texts.csv') # 데이터는 아래와 같이, label / text / is_valid column으로 이루어져있다. is_valid column은 각 row가 validation set으로 쓸것인지 아닌지를 결정해준다.\n",
    "df.head()"
   ]
  },
  {
   "cell_type": "code",
   "execution_count": 5,
   "metadata": {},
   "outputs": [
    {
     "data": {
      "text/plain": [
       "'This is a extremely well-made film. The acting, script and camera-work are all first-rate. The music is good, too, though it is mostly early in the film, when things are still relatively cheery. There are no really superstars in the cast, though several faces will be familiar. The entire cast does an excellent job with the script.<br /><br />But it is hard to watch, because there is no good end to a situation like the one presented. It is now fashionable to blame the British for setting Hindus and Muslims against each other, and then cruelly separating them into two countries. There is some merit in this view, but it\\'s also true that no one forced Hindus and Muslims in the region to mistreat each other as they did around the time of partition. It seems more likely that the British simply saw the tensions between the religions and were clever enough to exploit them to their own ends.<br /><br />The result is that there is much cruelty and inhumanity in the situation and this is very unpleasant to remember and to see on the screen. But it is never painted as a black-and-white case. There is baseness and nobility on both sides, and also the hope for change in the younger generation.<br /><br />There is redemption of a sort, in the end, when Puro has to make a hard choice between a man who has ruined her life, but also truly loved her, and her family which has disowned her, then later come looking for her. But by that point, she has no option that is without great pain for her.<br /><br />This film carries the message that both Muslims and Hindus have their grave faults, and also that both can be dignified and caring people. The reality of partition makes that realisation all the more wrenching, since there can never be real reconciliation across the India/Pakistan border. In that sense, it is similar to \"Mr & Mrs Iyer\".<br /><br />In the end, we were glad to have seen the film, even though the resolution was heartbreaking. If the UK and US could deal with their own histories of racism with this kind of frankness, they would certainly be better off.'"
      ]
     },
     "execution_count": 5,
     "metadata": {},
     "output_type": "execute_result"
    }
   ],
   "source": [
    "df['text'][1] # 두번째 데이터의 text."
   ]
  },
  {
   "cell_type": "markdown",
   "metadata": {},
   "source": [
    "It contains one line per review, with the label ('negative' or 'positive'), the text and a flag to determine if it should be part of the validation set or the training set. If we ignore this flag, we can create a DataBunch containing this data in one line of code:"
   ]
  },
  {
   "cell_type": "code",
   "execution_count": 6,
   "metadata": {},
   "outputs": [
    {
     "data": {
      "text/html": [],
      "text/plain": [
       "<IPython.core.display.HTML object>"
      ]
     },
     "metadata": {},
     "output_type": "display_data"
    },
    {
     "data": {
      "text/html": [],
      "text/plain": [
       "<IPython.core.display.HTML object>"
      ]
     },
     "metadata": {},
     "output_type": "display_data"
    }
   ],
   "source": [
    "data_lm = TextDataBunch.from_csv(path, 'texts.csv')"
   ]
  },
  {
   "cell_type": "markdown",
   "metadata": {},
   "source": [
    "By executing this line a process was launched that took a bit of time. Let's dig a bit into it. Images could be fed (almost) directly into a model because they're just a big array of pixel values that are floats between 0 and 1. A text is composed of words, and we can't apply mathematical functions to them directly. We first have to convert them to numbers. This is done in two differents steps: tokenization and numericalization. A `TextDataBunch` does all of that behind the scenes for you.\n",
    "\n",
    "Before we delve into the explanations, let's take the time to save the things that were calculated."
   ]
  },
  {
   "cell_type": "code",
   "execution_count": 7,
   "metadata": {},
   "outputs": [],
   "source": [
    "data_lm.save()"
   ]
  },
  {
   "cell_type": "markdown",
   "metadata": {},
   "source": [
    "Next time we launch this notebook, we can skip the cell above that took a bit of time (and that will take a lot more when you get to the full dataset) and load those results like this:"
   ]
  },
  {
   "cell_type": "code",
   "execution_count": 8,
   "metadata": {},
   "outputs": [],
   "source": [
    "data = load_data(path)"
   ]
  },
  {
   "cell_type": "markdown",
   "metadata": {},
   "source": [
    "### Tokenization"
   ]
  },
  {
   "cell_type": "markdown",
   "metadata": {},
   "source": [
    "The first step of processing we make the texts go through is to split the raw sentences into words, or more exactly tokens. The easiest way to do this would be to split the string on spaces, but we can be smarter:\n",
    "\n",
    "- we need to take care of punctuation\n",
    "- some words are contractions of two different words, like isn't or don't\n",
    "- we may need to clean some parts of our texts, if there's HTML code for instance\n",
    "\n",
    "To see what the tokenizer had done behind the scenes, let's have a look at a few texts in a batch."
   ]
  },
  {
   "cell_type": "code",
   "execution_count": 9,
   "metadata": {},
   "outputs": [
    {
     "data": {
      "text/html": [],
      "text/plain": [
       "<IPython.core.display.HTML object>"
      ]
     },
     "metadata": {},
     "output_type": "display_data"
    },
    {
     "data": {
      "text/html": [],
      "text/plain": [
       "<IPython.core.display.HTML object>"
      ]
     },
     "metadata": {},
     "output_type": "display_data"
    },
    {
     "data": {
      "text/html": [
       "<table border=\"1\" class=\"dataframe\">\n",
       "  <thead>\n",
       "    <tr style=\"text-align: right;\">\n",
       "      <th>text</th>\n",
       "      <th>target</th>\n",
       "    </tr>\n",
       "  </thead>\n",
       "  <tbody>\n",
       "    <tr>\n",
       "      <td>xxbos xxup the xxup shop xxup around xxup the xxup corner is one of the sweetest and most feel - good romantic comedies ever made . xxmaj there 's just no getting around that , and it 's hard to actually put one 's feeling for this film into words . xxmaj it 's not one of those films that tries too hard , nor does it come up with</td>\n",
       "      <td>positive</td>\n",
       "    </tr>\n",
       "    <tr>\n",
       "      <td>xxbos xxmaj now that xxmaj che(2008 ) has finished its relatively short xxmaj australian cinema run ( extremely limited xxunk screen in xxmaj sydney , after xxunk ) , i can xxunk join both xxunk of \" xxmaj at xxmaj the xxmaj movies \" in taking xxmaj steven xxmaj soderbergh to task . \\n \\n  xxmaj it 's usually satisfying to watch a film director change his style /</td>\n",
       "      <td>negative</td>\n",
       "    </tr>\n",
       "    <tr>\n",
       "      <td>xxbos xxmaj this film sat on my xxmaj tivo for weeks before i watched it . i dreaded a self - indulgent xxunk flick about relationships gone bad . i was wrong ; this was an xxunk xxunk into the screwed - up xxunk of xxmaj new xxmaj xxunk . \\n \\n  xxmaj the format is the same as xxmaj max xxmaj xxunk ' \" xxmaj la xxmaj ronde</td>\n",
       "      <td>positive</td>\n",
       "    </tr>\n",
       "    <tr>\n",
       "      <td>xxbos i really wanted to love this show . i truly , honestly did . \\n \\n  xxmaj for the first time , gay viewers get their own version of the \" xxmaj the xxmaj bachelor \" . xxmaj with the help of his obligatory \" hag \" xxmaj xxunk , xxmaj james , a good looking , well - to - do thirty - something has the chance</td>\n",
       "      <td>negative</td>\n",
       "    </tr>\n",
       "    <tr>\n",
       "      <td>xxbos xxmaj to review this movie , i without any doubt would have to quote that memorable scene in xxmaj tarantino 's \" xxmaj pulp xxmaj fiction \" ( xxunk ) when xxmaj jules and xxmaj vincent are talking about xxmaj mia xxmaj wallace and what she does for a living . xxmaj jules tells xxmaj vincent that the \" xxmaj only thing she did worthwhile was pilot \" .</td>\n",
       "      <td>negative</td>\n",
       "    </tr>\n",
       "  </tbody>\n",
       "</table>"
      ],
      "text/plain": [
       "<IPython.core.display.HTML object>"
      ]
     },
     "metadata": {},
     "output_type": "display_data"
    }
   ],
   "source": [
    "data = TextClasDataBunch.from_csv(path, 'texts.csv') # csv에서 데이터를 가져온다.\n",
    "data.show_batch()"
   ]
  },
  {
   "cell_type": "markdown",
   "metadata": {},
   "source": [
    "The texts are truncated at 100 tokens for more readability. We can see that it did more than just split on space and punctuation symbols: \n",
    "- the \"'s\" are grouped together in one token\n",
    "- the contractions are separated like this: \"did\", \"n't\"\n",
    "- content has been cleaned for any HTML symbol and lower cased\n",
    "- there are several special tokens (all those that begin by xx), to replace unknown tokens (see below) or to introduce different text fields (here we only have one)."
   ]
  },
  {
   "cell_type": "markdown",
   "metadata": {},
   "source": [
    "### Numericalization"
   ]
  },
  {
   "cell_type": "markdown",
   "metadata": {},
   "source": [
    "Once we have extracted tokens from our texts, we convert to integers by creating a list of all the words used. We only keep the ones that appear at least twice with a maximum vocabulary size of 60,000 (by default) and replace the ones that don't make the cut by the unknown token `UNK`.\n",
    "\n",
    "The correspondance from ids to tokens is stored in the `vocab` attribute of our datasets, in a dictionary called `itos` (for int to string)."
   ]
  },
  {
   "cell_type": "code",
   "execution_count": 10,
   "metadata": {},
   "outputs": [
    {
     "data": {
      "text/plain": [
       "['xxunk',\n",
       " 'xxpad',\n",
       " 'xxbos',\n",
       " 'xxeos',\n",
       " 'xxfld',\n",
       " 'xxmaj',\n",
       " 'xxup',\n",
       " 'xxrep',\n",
       " 'xxwrep',\n",
       " 'the']"
      ]
     },
     "execution_count": 10,
     "metadata": {},
     "output_type": "execute_result"
    }
   ],
   "source": [
    "data.vocab.itos[:10] # data.vocab에는 모든 단어의 Index가 있고, 그것을 itos Method를 통해 바꾸면 각 단어에 해당하는 index를 해당 단어로 바꿔준다."
   ]
  },
  {
   "cell_type": "markdown",
   "metadata": {},
   "source": [
    "And if we look at what a what's in our datasets, we'll see the tokenized text as a representation:"
   ]
  },
  {
   "cell_type": "code",
   "execution_count": 11,
   "metadata": {},
   "outputs": [
    {
     "data": {
      "text/plain": [
       "Text xxbos xxmaj awesomely improbable and foolish xxunk that at least has some redeeming , crisp location photography , but it 's too unbelievable to generate much in the way of tension . i was kinda hoping that xxmaj stanwyck would n't make it back in time because , really , she was xxunk with the wet , in more ways than one , husband , and she had an idiot child as well .. why xxup not run off with xxmaj xxunk ? xxmaj but the xxunk question remains .. what sort of wood was that pier support made of if a xxunk piece of it pulled off did n't xxunk ? xxmaj stanwyck , always impeccably professional , does the best she could with the material but it 's xxunk ."
      ]
     },
     "execution_count": 11,
     "metadata": {},
     "output_type": "execute_result"
    }
   ],
   "source": [
    "data.train_ds[0][0]"
   ]
  },
  {
   "cell_type": "markdown",
   "metadata": {},
   "source": [
    "But the underlying data is all numbers"
   ]
  },
  {
   "cell_type": "code",
   "execution_count": 12,
   "metadata": {},
   "outputs": [
    {
     "data": {
      "text/plain": [
       "array([   2,    5, 6071, 2195,   12, 3790,    0,   21,   47,  225])"
      ]
     },
     "execution_count": 12,
     "metadata": {},
     "output_type": "execute_result"
    }
   ],
   "source": [
    "data.train_ds[0][0].data[:10]"
   ]
  },
  {
   "cell_type": "markdown",
   "metadata": {},
   "source": [
    "### With the data block API"
   ]
  },
  {
   "cell_type": "markdown",
   "metadata": {},
   "source": [
    "We can use the data block API with NLP and have a lot more flexibility than what the default factory methods offer. In the previous example for instance, the data was randomly split between train and validation instead of reading the third column of the csv.\n",
    "\n",
    "With the data block API though, we have to manually call the tokenize and numericalize steps. This allows more flexibility, and if you're not using the defaults from fastai, the various arguments to pass will appear in the step they're revelant, so it'll be more readable."
   ]
  },
  {
   "cell_type": "code",
   "execution_count": 13,
   "metadata": {},
   "outputs": [
    {
     "data": {
      "text/html": [],
      "text/plain": [
       "<IPython.core.display.HTML object>"
      ]
     },
     "metadata": {},
     "output_type": "display_data"
    },
    {
     "data": {
      "text/html": [],
      "text/plain": [
       "<IPython.core.display.HTML object>"
      ]
     },
     "metadata": {},
     "output_type": "display_data"
    }
   ],
   "source": [
    "data = (TextList.from_csv(path, 'texts.csv', cols='text')\n",
    "                .split_from_df(col=2)\n",
    "                .label_from_df(cols=0)\n",
    "                .databunch())"
   ]
  },
  {
   "cell_type": "markdown",
   "metadata": {},
   "source": [
    "## Language model"
   ]
  },
  {
   "cell_type": "markdown",
   "metadata": {},
   "source": [
    "Note that language models can use a lot of GPU, so you may need to decrease batchsize here."
   ]
  },
  {
   "cell_type": "code",
   "execution_count": 14,
   "metadata": {},
   "outputs": [],
   "source": [
    "bs=48 #batch_size = 48"
   ]
  },
  {
   "cell_type": "markdown",
   "metadata": {},
   "source": [
    "Now let's grab the full dataset for what follows."
   ]
  },
  {
   "cell_type": "code",
   "execution_count": 15,
   "metadata": {},
   "outputs": [
    {
     "data": {
      "text/plain": [
       "[PosixPath('/home/user/.fastai/data/imdb/test'),\n",
       " PosixPath('/home/user/.fastai/data/imdb/unsup'),\n",
       " PosixPath('/home/user/.fastai/data/imdb/data_clas.pkl'),\n",
       " PosixPath('/home/user/.fastai/data/imdb/train'),\n",
       " PosixPath('/home/user/.fastai/data/imdb/tmp_clas'),\n",
       " PosixPath('/home/user/.fastai/data/imdb/tmp_lm'),\n",
       " PosixPath('/home/user/.fastai/data/imdb/data_lm.pkl'),\n",
       " PosixPath('/home/user/.fastai/data/imdb/README'),\n",
       " PosixPath('/home/user/.fastai/data/imdb/imdb.vocab'),\n",
       " PosixPath('/home/user/.fastai/data/imdb/models')]"
      ]
     },
     "execution_count": 15,
     "metadata": {},
     "output_type": "execute_result"
    }
   ],
   "source": [
    "path = untar_data(URLs.IMDB)\n",
    "path.ls()"
   ]
  },
  {
   "cell_type": "code",
   "execution_count": 16,
   "metadata": {},
   "outputs": [
    {
     "data": {
      "text/plain": [
       "[PosixPath('/home/user/.fastai/data/imdb/train/labeledBow.feat'),\n",
       " PosixPath('/home/user/.fastai/data/imdb/train/neg'),\n",
       " PosixPath('/home/user/.fastai/data/imdb/train/unsupBow.feat'),\n",
       " PosixPath('/home/user/.fastai/data/imdb/train/pos')]"
      ]
     },
     "execution_count": 16,
     "metadata": {},
     "output_type": "execute_result"
    }
   ],
   "source": [
    "(path/'train').ls()"
   ]
  },
  {
   "cell_type": "markdown",
   "metadata": {},
   "source": [
    "The reviews are in a training and test set following an imagenet structure. The only difference is that there is an `unsup` folder on top of `train` and `test` that contains the unlabelled data.\n",
    "\n",
    "We're not going to train a model that classifies the reviews from scratch. Like in computer vision, we'll use a model pretrained on a bigger dataset (a cleaned subset of wikipedia called [wikitext-103](https://einstein.ai/research/blog/the-wikitext-long-term-dependency-language-modeling-dataset)). That model has been trained to guess what the next word is, its input being all the previous words. It has a recurrent structure and a hidden state that is updated each time it sees a new word. This hidden state thus contains information about the sentence up to that point.\n",
    "\n",
    "We are going to use that 'knowledge' of the English language to build our classifier, but first, like for computer vision, we need to fine-tune the pretrained model to our particular dataset. Because the English of the reviews left by people on IMDB isn't the same as the English of wikipedia, we'll need to adjust the parameters of our model by a little bit. Plus there might be some words that would be extremely common in the reviews dataset but would be barely present in wikipedia, and therefore might not be part of the vocabulary the model was trained on."
   ]
  },
  {
   "cell_type": "markdown",
   "metadata": {},
   "source": [
    "This is where the unlabelled data is going to be useful to us, as we can use it to fine-tune our model. Let's create our data object with the data block API (next line takes a few minutes)."
   ]
  },
  {
   "cell_type": "code",
   "execution_count": 17,
   "metadata": {},
   "outputs": [
    {
     "data": {
      "text/html": [],
      "text/plain": [
       "<IPython.core.display.HTML object>"
      ]
     },
     "metadata": {},
     "output_type": "display_data"
    },
    {
     "data": {
      "text/html": [],
      "text/plain": [
       "<IPython.core.display.HTML object>"
      ]
     },
     "metadata": {},
     "output_type": "display_data"
    }
   ],
   "source": [
    "data_lm = (TextList.from_folder(path)\n",
    "           #Inputs: all the text files in path\n",
    "            .filter_by_folder(include=['train', 'test', 'unsup']) \n",
    "           #We may have other temp folders that contain text files so we only keep what's in train and test\n",
    "            .split_by_rand_pct(0.1)\n",
    "           #We randomly split and keep 10% (10,000 reviews) for validation\n",
    "            .label_for_lm()           \n",
    "           #We want to do a language model so we label accordingly\n",
    "            .databunch(bs=bs))\n",
    "data_lm.save('data_lm.pkl')"
   ]
  },
  {
   "cell_type": "markdown",
   "metadata": {},
   "source": [
    "We have to use a special kind of `TextDataBunch` for the language model, that ignores the labels (that's why we put 0 everywhere), will shuffle the texts at each epoch before concatenating them all together (only for training, we don't shuffle for the validation set) and will send batches that read that text in order with targets that are the next word in the sentence.\n",
    "\n",
    "The line before being a bit long, we want to load quickly the final ids by using the following cell."
   ]
  },
  {
   "cell_type": "code",
   "execution_count": 18,
   "metadata": {},
   "outputs": [],
   "source": [
    "data_lm = load_data(path, 'data_lm.pkl', bs=bs)"
   ]
  },
  {
   "cell_type": "code",
   "execution_count": 19,
   "metadata": {},
   "outputs": [
    {
     "data": {
      "text/html": [
       "<table border=\"1\" class=\"dataframe\">\n",
       "  <thead>\n",
       "    <tr style=\"text-align: right;\">\n",
       "      <th>idx</th>\n",
       "      <th>text</th>\n",
       "    </tr>\n",
       "  </thead>\n",
       "  <tbody>\n",
       "    <tr>\n",
       "      <td>0</td>\n",
       "      <td>movie plot , so just plan to enjoy the action , and do not expect a coherent plot . xxmaj turn any sense of logic you may have , it will reduce your chance of getting a headache . \\n \\n  i does give me some hope that xxmaj steven xxmaj seagal is trying to move back towards the type of characters he portrayed in his more popular movies</td>\n",
       "    </tr>\n",
       "    <tr>\n",
       "      <td>1</td>\n",
       "      <td>that causes him to go boss - eyed . xxmaj probably hilarious if you 're stoned , but to a child , quite disturbing . xxmaj speaking of which , the infamous ' hippo cull ' scene is represented in an abstract manner - clouds in vague hippo shapes are struck by lightning - but it 's still pretty unpleasant . xxmaj in fact , this film is pretty cold</td>\n",
       "    </tr>\n",
       "    <tr>\n",
       "      <td>2</td>\n",
       "      <td>, and a loud computerized voice echoes and flashes \" xxmaj fight xxmaj mode \" . xxmaj that must be a dandy design if you are trying to sneak up on somebody . xxmaj then you go to a big power station which looks just like a current day power line tower and plug in to charge back up . xxup lol , i 'm not kidding , you ca</td>\n",
       "    </tr>\n",
       "    <tr>\n",
       "      <td>3</td>\n",
       "      <td>dolph xxmaj lundgren 's xxmaj punisher ( also a comic adaptation , perhaps there is a trend here ? ) . xxmaj surely the audience is meant to be on the same side as the ' hero ' ? xxmaj and whilst a vampire can be a tragic character , this is not true of xxmaj blade , he is relentlessly cruel , scornful and not a whole lot better</td>\n",
       "    </tr>\n",
       "    <tr>\n",
       "      <td>4</td>\n",
       "      <td>the film moves that everything is not what it seems , yet i feel the movie fails at giving you enough to go on to truly care afterward . xxmaj it 's about perception . xxmaj there are characters the heroine xxunk xxmaj xxunk in the film that she talks to that up and vanish . xxmaj this might seem like a spoiler , but it 's something that really</td>\n",
       "    </tr>\n",
       "  </tbody>\n",
       "</table>"
      ],
      "text/plain": [
       "<IPython.core.display.HTML object>"
      ]
     },
     "metadata": {},
     "output_type": "display_data"
    }
   ],
   "source": [
    "data_lm.show_batch()"
   ]
  },
  {
   "cell_type": "markdown",
   "metadata": {},
   "source": [
    "We can then put this in a learner object very easily with a model loaded with the pretrained weights. They'll be downloaded the first time you'll execute the following line and stored in `~/.fastai/models/` (or elsewhere if you specified different paths in your config file)."
   ]
  },
  {
   "cell_type": "code",
   "execution_count": 20,
   "metadata": {},
   "outputs": [],
   "source": [
    "# AWD_LSTM은 LSTM을 사용해서 Language Model을 만들기 위해 sgd optimizer를 변형한 NT-ASGD를 사용하며, Dropconnect를 LSTM에 적용하여 학습이 잘되도록 한다.\n",
    "# Reference : https://arxiv.org/abs/1708.02182\n",
    "# AWD_LSTM 대신에 Transformer, TransformerXL도 사용할 수 있다.\n",
    "# drop_mult는 dropout의 rate를 결정한다.\n",
    "learn = language_model_learner(data_lm, AWD_LSTM, drop_mult=0.3)"
   ]
  },
  {
   "cell_type": "code",
   "execution_count": 21,
   "metadata": {},
   "outputs": [
    {
     "data": {
      "text/html": [
       "\n",
       "    <div>\n",
       "        <style>\n",
       "            /* Turns off some styling */\n",
       "            progress {\n",
       "                /* gets rid of default border in Firefox and Opera. */\n",
       "                border: none;\n",
       "                /* Needs to be in here for Safari polyfill so background images work as expected. */\n",
       "                background-size: auto;\n",
       "            }\n",
       "            .progress-bar-interrupted, .progress-bar-interrupted::-webkit-progress-bar {\n",
       "                background: #F44336;\n",
       "            }\n",
       "        </style>\n",
       "      <progress value='0' class='' max='1', style='width:300px; height:20px; vertical-align: middle;'></progress>\n",
       "      0.00% [0/1 00:00<00:00]\n",
       "    </div>\n",
       "    \n",
       "<table border=\"1\" class=\"dataframe\">\n",
       "  <thead>\n",
       "    <tr style=\"text-align: left;\">\n",
       "      <th>epoch</th>\n",
       "      <th>train_loss</th>\n",
       "      <th>valid_loss</th>\n",
       "      <th>accuracy</th>\n",
       "      <th>time</th>\n",
       "    </tr>\n",
       "  </thead>\n",
       "  <tbody>\n",
       "  </tbody>\n",
       "</table><p>\n",
       "\n",
       "    <div>\n",
       "        <style>\n",
       "            /* Turns off some styling */\n",
       "            progress {\n",
       "                /* gets rid of default border in Firefox and Opera. */\n",
       "                border: none;\n",
       "                /* Needs to be in here for Safari polyfill so background images work as expected. */\n",
       "                background-size: auto;\n",
       "            }\n",
       "            .progress-bar-interrupted, .progress-bar-interrupted::-webkit-progress-bar {\n",
       "                background: #F44336;\n",
       "            }\n",
       "        </style>\n",
       "      <progress value='99' class='' max='8052', style='width:300px; height:20px; vertical-align: middle;'></progress>\n",
       "      1.23% [99/8052 00:12<16:10 11.5695]\n",
       "    </div>\n",
       "    "
      ],
      "text/plain": [
       "<IPython.core.display.HTML object>"
      ]
     },
     "metadata": {},
     "output_type": "display_data"
    },
    {
     "name": "stdout",
     "output_type": "stream",
     "text": [
      "LR Finder is complete, type {learner_name}.recorder.plot() to see the graph.\n"
     ]
    }
   ],
   "source": [
    "learn.lr_find()"
   ]
  },
  {
   "cell_type": "code",
   "execution_count": 22,
   "metadata": {},
   "outputs": [
    {
     "data": {
      "image/png": "[encoded data removed]",
      "text/plain": [
       "<Figure size 432x288 with 1 Axes>"
      ]
     },
     "metadata": {
      "needs_background": "light"
     },
     "output_type": "display_data"
    }
   ],
   "source": [
    "learn.recorder.plot(skip_end=15)"
   ]
  },
  {
   "cell_type": "code",
   "execution_count": 23,
   "metadata": {},
   "outputs": [
    {
     "data": {
      "text/html": [
       "<table border=\"1\" class=\"dataframe\">\n",
       "  <thead>\n",
       "    <tr style=\"text-align: left;\">\n",
       "      <th>epoch</th>\n",
       "      <th>train_loss</th>\n",
       "      <th>valid_loss</th>\n",
       "      <th>accuracy</th>\n",
       "      <th>time</th>\n",
       "    </tr>\n",
       "  </thead>\n",
       "  <tbody>\n",
       "    <tr>\n",
       "      <td>0</td>\n",
       "      <td>4.165946</td>\n",
       "      <td>4.026157</td>\n",
       "      <td>0.294885</td>\n",
       "      <td>17:00</td>\n",
       "    </tr>\n",
       "  </tbody>\n",
       "</table>"
      ],
      "text/plain": [
       "<IPython.core.display.HTML object>"
      ]
     },
     "metadata": {},
     "output_type": "display_data"
    }
   ],
   "source": [
    "# moms는 cyclical momentum값. (0.8과 0.7) 사이에서 momentum에 사용할 optimal phi값을 찾는다.\n",
    "# Reference : https://arxiv.org/pdf/1803.09820.pdf\n",
    "learn.fit_one_cycle(1, 1e-2, moms=(0.8,0.7))"
   ]
  },
  {
   "cell_type": "code",
   "execution_count": 24,
   "metadata": {},
   "outputs": [],
   "source": [
    "learn.save('fit_head')"
   ]
  },
  {
   "cell_type": "code",
   "execution_count": 25,
   "metadata": {},
   "outputs": [],
   "source": [
    "learn.load('fit_head');"
   ]
  },
  {
   "cell_type": "markdown",
   "metadata": {},
   "source": [
    "To complete the fine-tuning, we can then unfeeze and launch a new training."
   ]
  },
  {
   "cell_type": "code",
   "execution_count": 26,
   "metadata": {},
   "outputs": [],
   "source": [
    "learn.unfreeze()"
   ]
  },
  {
   "cell_type": "code",
   "execution_count": 27,
   "metadata": {},
   "outputs": [
    {
     "data": {
      "text/html": [
       "<table border=\"1\" class=\"dataframe\">\n",
       "  <thead>\n",
       "    <tr style=\"text-align: left;\">\n",
       "      <th>epoch</th>\n",
       "      <th>train_loss</th>\n",
       "      <th>valid_loss</th>\n",
       "      <th>accuracy</th>\n",
       "      <th>time</th>\n",
       "    </tr>\n",
       "  </thead>\n",
       "  <tbody>\n",
       "    <tr>\n",
       "      <td>0</td>\n",
       "      <td>3.869107</td>\n",
       "      <td>3.846509</td>\n",
       "      <td>0.312888</td>\n",
       "      <td>17:13</td>\n",
       "    </tr>\n",
       "    <tr>\n",
       "      <td>1</td>\n",
       "      <td>3.839792</td>\n",
       "      <td>3.805870</td>\n",
       "      <td>0.319777</td>\n",
       "      <td>17:16</td>\n",
       "    </tr>\n",
       "    <tr>\n",
       "      <td>2</td>\n",
       "      <td>3.803273</td>\n",
       "      <td>3.780046</td>\n",
       "      <td>0.323106</td>\n",
       "      <td>17:15</td>\n",
       "    </tr>\n",
       "    <tr>\n",
       "      <td>3</td>\n",
       "      <td>3.747533</td>\n",
       "      <td>3.749584</td>\n",
       "      <td>0.327028</td>\n",
       "      <td>17:15</td>\n",
       "    </tr>\n",
       "    <tr>\n",
       "      <td>4</td>\n",
       "      <td>3.704262</td>\n",
       "      <td>3.721799</td>\n",
       "      <td>0.330093</td>\n",
       "      <td>17:09</td>\n",
       "    </tr>\n",
       "    <tr>\n",
       "      <td>5</td>\n",
       "      <td>3.664324</td>\n",
       "      <td>3.700976</td>\n",
       "      <td>0.332678</td>\n",
       "      <td>17:16</td>\n",
       "    </tr>\n",
       "    <tr>\n",
       "      <td>6</td>\n",
       "      <td>3.613920</td>\n",
       "      <td>3.684423</td>\n",
       "      <td>0.334670</td>\n",
       "      <td>17:15</td>\n",
       "    </tr>\n",
       "    <tr>\n",
       "      <td>7</td>\n",
       "      <td>3.593322</td>\n",
       "      <td>3.674699</td>\n",
       "      <td>0.336212</td>\n",
       "      <td>17:14</td>\n",
       "    </tr>\n",
       "    <tr>\n",
       "      <td>8</td>\n",
       "      <td>3.544340</td>\n",
       "      <td>3.669938</td>\n",
       "      <td>0.336932</td>\n",
       "      <td>17:12</td>\n",
       "    </tr>\n",
       "    <tr>\n",
       "      <td>9</td>\n",
       "      <td>3.498464</td>\n",
       "      <td>3.669881</td>\n",
       "      <td>0.337023</td>\n",
       "      <td>17:15</td>\n",
       "    </tr>\n",
       "  </tbody>\n",
       "</table>"
      ],
      "text/plain": [
       "<IPython.core.display.HTML object>"
      ]
     },
     "metadata": {},
     "output_type": "display_data"
    }
   ],
   "source": [
    "learn.fit_one_cycle(10, 1e-3, moms=(0.8,0.7)) # 10 epoch, lr=0.0001, momentum range = (0.8, 0.7)"
   ]
  },
  {
   "cell_type": "code",
   "execution_count": 28,
   "metadata": {},
   "outputs": [],
   "source": [
    "learn.save('fine_tuned')"
   ]
  },
  {
   "cell_type": "markdown",
   "metadata": {},
   "source": [
    "How good is our model? Well let's try to see what it predicts after a few given words."
   ]
  },
  {
   "cell_type": "code",
   "execution_count": 29,
   "metadata": {},
   "outputs": [],
   "source": [
    "learn.load('fine_tuned');"
   ]
  },
  {
   "cell_type": "code",
   "execution_count": 30,
   "metadata": {},
   "outputs": [],
   "source": [
    "TEXT = \"I liked this movie because\"\n",
    "N_WORDS = 40\n",
    "N_SENTENCES = 2"
   ]
  },
  {
   "cell_type": "code",
   "execution_count": 31,
   "metadata": {},
   "outputs": [
    {
     "name": "stdout",
     "output_type": "stream",
     "text": [
      "I liked this movie because it was so good . There was not much to this movie . The plot was great , the acting was way better than your average Hollywood movie . It was very realistic . It\n",
      "I liked this movie because it was a good movie . It was a solid thriller , though definitely not very convincing . The acting was okay as well as the direction . The cinematography was also great . The acting\n"
     ]
    }
   ],
   "source": [
    "# TEXT 이하에 나오는 40단어를 가지는 문장 2개를 학습된 LM을 통해서 생성한다. AWD_LSTM에 TEXT를 inference한 결과다.\n",
    "print(\"\\n\".join(learn.predict(TEXT, N_WORDS, temperature=0.75) for _ in range(N_SENTENCES)))"
   ]
  },
  {
   "cell_type": "markdown",
   "metadata": {},
   "source": [
    "We have to save not only the model, but also its encoder, the part that's responsible for creating and updating the hidden state. For the next part, we don't care about the part that tries to guess the next word."
   ]
  },
  {
   "cell_type": "code",
   "execution_count": 32,
   "metadata": {},
   "outputs": [],
   "source": [
    "learn.save_encoder('fine_tuned_enc')"
   ]
  },
  {
   "cell_type": "markdown",
   "metadata": {},
   "source": [
    "## Classifier"
   ]
  },
  {
   "cell_type": "markdown",
   "metadata": {},
   "source": [
    "Now, we'll create a new data object that only grabs the labelled data and keeps those labels. Again, this line takes a bit of time."
   ]
  },
  {
   "cell_type": "code",
   "execution_count": 33,
   "metadata": {},
   "outputs": [],
   "source": [
    "path = untar_data(URLs.IMDB) # 이번에 IMDB를 통해 pos/neg를 판단하는 classification을 해보자."
   ]
  },
  {
   "cell_type": "code",
   "execution_count": 34,
   "metadata": {},
   "outputs": [
    {
     "data": {
      "text/html": [],
      "text/plain": [
       "<IPython.core.display.HTML object>"
      ]
     },
     "metadata": {},
     "output_type": "display_data"
    },
    {
     "data": {
      "text/html": [],
      "text/plain": [
       "<IPython.core.display.HTML object>"
      ]
     },
     "metadata": {},
     "output_type": "display_data"
    }
   ],
   "source": [
    "data_clas = (TextList.from_folder(path, vocab=data_lm.vocab)\n",
    "             #grab all the text files in path\n",
    "             .split_by_folder(valid='test')\n",
    "             #split by train and valid folder (that only keeps 'train' and 'test' so no need to filter)\n",
    "             .label_from_folder(classes=['neg', 'pos'])\n",
    "             #label them all with their folders\n",
    "             .databunch(bs=bs))\n",
    "\n",
    "data_clas.save('data_clas.pkl')"
   ]
  },
  {
   "cell_type": "code",
   "execution_count": 35,
   "metadata": {},
   "outputs": [],
   "source": [
    "data_clas = load_data(path, 'data_clas.pkl', bs=bs)"
   ]
  },
  {
   "cell_type": "code",
   "execution_count": 36,
   "metadata": {},
   "outputs": [
    {
     "data": {
      "text/html": [
       "<table border=\"1\" class=\"dataframe\">\n",
       "  <thead>\n",
       "    <tr style=\"text-align: right;\">\n",
       "      <th>text</th>\n",
       "      <th>target</th>\n",
       "    </tr>\n",
       "  </thead>\n",
       "  <tbody>\n",
       "    <tr>\n",
       "      <td>xxbos xxmaj match 1 : xxmaj tag xxmaj team xxmaj table xxmaj match xxmaj bubba xxmaj ray and xxmaj spike xxmaj dudley vs xxmaj eddie xxmaj guerrero and xxmaj chris xxmaj benoit xxmaj bubba xxmaj ray and xxmaj spike xxmaj dudley started things off with a xxmaj tag xxmaj team xxmaj table xxmaj match against xxmaj eddie xxmaj guerrero and xxmaj chris xxmaj benoit . xxmaj according to the rules</td>\n",
       "      <td>pos</td>\n",
       "    </tr>\n",
       "    <tr>\n",
       "      <td>xxbos xxmaj titanic directed by xxmaj james xxmaj cameron presents a fictional love story on the historical setting of the xxmaj titanic . xxmaj the plot is simple , xxunk , or not for those who love plots that twist and turn and keep you in suspense . xxmaj the end of the movie can be figured out within minutes of the start of the film , but the love</td>\n",
       "      <td>pos</td>\n",
       "    </tr>\n",
       "    <tr>\n",
       "      <td>xxbos xxunk ) is the developing world 's answer to xxmaj silence of the xxmaj lambs . xxmaj where ` xxmaj silence ' terrorized our peace of mind , ` xxmaj citizen ' xxunk and saddens us instead . xxmaj this dramatization of the xxmaj chikatilo case translates rather well , thanks to a xxmaj westernized friendship between two xxmaj rostov cops who become equals . \\n \\n  citizenx</td>\n",
       "      <td>pos</td>\n",
       "    </tr>\n",
       "    <tr>\n",
       "      <td>xxbos xxmaj on xxmaj sunday xxmaj july 27 , 1997 , the first episode of a new science fiction series called \" xxmaj stargate xxup sg-1 \" was broadcast on xxmaj showtime . a spin - off of and sequel to the 1994 film \" xxmaj stargate \" starring xxmaj kurt xxmaj russell and xxmaj james xxmaj spader , the series begins approximately one year after the events portrayed in</td>\n",
       "      <td>pos</td>\n",
       "    </tr>\n",
       "    <tr>\n",
       "      <td>xxbos xxmaj this film sat on my xxmaj tivo for weeks before i watched it . i dreaded a self - indulgent yuppie flick about relationships gone bad . i was wrong ; this was an engrossing excursion into the screwed - up libidos of xxmaj new xxmaj yorkers . \\n \\n  xxmaj the format is the same as xxmaj max xxmaj ophuls ' \" xxmaj la xxmaj ronde</td>\n",
       "      <td>pos</td>\n",
       "    </tr>\n",
       "  </tbody>\n",
       "</table>"
      ],
      "text/plain": [
       "<IPython.core.display.HTML object>"
      ]
     },
     "metadata": {},
     "output_type": "display_data"
    }
   ],
   "source": [
    "data_clas.show_batch()"
   ]
  },
  {
   "cell_type": "markdown",
   "metadata": {},
   "source": [
    "We can then create a model to classify those reviews and load the encoder we saved before."
   ]
  },
  {
   "cell_type": "code",
   "execution_count": 37,
   "metadata": {},
   "outputs": [
    {
     "data": {
      "text/plain": [
       "RNNLearner(data=TextClasDataBunch;\n",
       "\n",
       "Train: LabelList (25000 items)\n",
       "x: TextList\n",
       "xxbos xxup star xxup rating : xxrep 5 * xxmaj saturday xxmaj night xxrep 4 * xxmaj friday xxmaj night * * * xxmaj friday xxmaj morning * * xxmaj sunday xxmaj night * xxmaj monday xxmaj morning \n",
       " \n",
       "  xxmaj james xxmaj dial ( xxmaj wesley xxmaj snipes ) is hiding out on his ranch in xxmaj montana after failing to capture a notorious terrorist . xxmaj then he 's approached by the agency again to travel to xxmaj london to have another go . xxmaj his target has been apprehended there and is under heavy police xxunk but they do n't want him merely to capture their man- they want him taken out . xxmaj all goes well but then the mission gets botched and when a senior police chief , xxmaj windsor ( xxmaj charles xxmaj dance ) is killed , the blame falls at xxmaj dial 's feet . xxmaj hunted like an animal , he takes refuge in a nearby house and befriends a young girl named xxmaj emily ( xxmaj eliza xxmaj bennett ) who 's dealing with issues of her own and becomes his unwitting sidekick as he goes about clearing his name and working out who betrayed him . \n",
       " \n",
       "  xxmaj this latest xxmaj snipes straight to xxup dvd escapade came out of nowhere , with a minimal of publicity even for something so small time ( i do n't recall seeing any advertisements or trailers for it anywhere . ) xxmaj with this in mind and after xxmaj snipes 's history of duff xxup dvd efforts , this might have seemed like one which xxmaj snoop xxmaj dawg would tell you to drop like it 's hot . xxmaj but i felt compelled to give it a go anyway . xxmaj it does n't rank among his worst , but it does n't reach any higher than the standards of some of his better ones ( xxmaj the xxmaj detonator , 7 xxmaj seconds , says it all , really ) , either . \n",
       " \n",
       "  xxmaj this is , at best , mildly suspenseful , with a minimal of action , naff all in the way of cool dialogue and xxmaj snipes not exactly at his best in the lead role . xxmaj likewise , in a main supporting role , it 's quite clear xxmaj dance has only showed up for the pay cheque as well and this is generally one that none of the cast are going to shout for the hills about on any of their cvs . \n",
       " \n",
       "  xxmaj it says a lot that by the end the only ' contract ' that 's keeping you interested is when xxmaj snipes 's will end with xxmaj sony and with it an end to any further sub par xxup el xxup dvd action films . * *,xxbos xxmaj the plot was predictable , and fighting with guns gets old , but this is a definate movie to look at if you have a low xxup iq and do n't really care about real movies . i would xxunk in true art movies , like ' xxmaj clerks ' , ' xxmaj something about xxmaj mary ' , ' xxmaj el xxmaj mariachi ' , or ' xxmaj la xxmaj xxunk ' .,xxbos i can not believe the same guy directed this crap and xxmaj dracula 2000 . xxmaj dracula 2000 was innovative , fresh , and well written , if poorly acted . \n",
       " \n",
       "  xxmaj this pile ca n't even claim that . xxmaj it starts with the defeat of xxmaj dracula at the end of xxmaj dracula 2000 . xxmaj then ignores the narrative afterwards describing what happened after that . xxmaj following the narrative properly could have made this a good sequel somehow , but xxmaj craven chose to go in the style of his older films , having no good tie but the main villain 's name . \n",
       " \n",
       "  xxmaj even the actor playing xxmaj dracula was different ( going from dark hair in xxmaj dracula 2000 to a blonde here ) . \n",
       " \n",
       "  xxmaj avoid this movie if you have any respect for your taste in movies .,xxbos xxmaj now do n't get me wrong . xxmaj if you need an insightful summary of everything that been wrong with the history of human civilization as well as a flawless path to brighter future for mankind , who better to turn to than a comedian and practitioner of pop culture ? xxmaj if you need a healthy dose of all the solid , sound reasons why religion has outlived it 's usefulness then turn to xxmaj sagan or xxmaj dawkins , not xxup bill xxup maher for xxmaj god 's ( ? ) sake ! xxmaj that 's a good point in and of itself . xxmaj maher dismisses our religious past as a neurological disorder conveniently ignoring how his entire society , art and science is rooted in it . \n",
       " \n",
       "  xxmaj in this film , he relies heavily on his keenly - honed skill set of irony and cynicism to make his point while attempting to appear erudite and wise . xxmaj unfortunately , his intellect is n't up to the task . \n",
       " \n",
       "  xxmaj maher makes us laugh but is clearly not the brightest bulb in the box . xxmaj as an example , he responds to an interviewee 's ( and i use the term loosely as they were clearly all \" xxunk \" ) assertion that the existence of xxmaj jesus is historical fact with a deadpan \" xxmaj no , it 's not \" followed by a long stare meant to convey contempt at the subject 's naivety ( a device nauseatingly overused in this film ) . xxmaj the problem is that the person was correct and xxmaj maher dead wrong in his assertion that xxmaj jesus is mentioned only in what he considers to be the xxunk suspect gospels . i guess xxmaj mr. xxmaj maher has never read the contemporary historian xxmaj xxunk . \n",
       " \n",
       "  xxmaj but the masses will flock to this pseudo - documentary as they do the fictional works of other intellectual giants like xxmaj michael xxmaj moore , and they will loudly bray and guffaw ( they certainly did at my showing ) . \n",
       " \n",
       "  xxmaj it 's doubly telling , however , that the loudest and most mule - like braying occurred during the approximately 70 % of the running time that the film devoted to it 's anti - xxmaj christian tirade while the audience was wholly mute during the token 10 % devoted to criticizing the self - described xxmaj religion of xxmaj peace . xxmaj hmmm . xxmaj either criticism of xxmaj islam is off - limits to the hip and liberal target audience or they were just afraid to laugh . xxmaj very telling , either way ..,xxbos xxmaj repetitive music , annoying narration , terrible cinematography effects . xxmaj half of the plot seemed centered around shock value and the other half seemed to be focused on appeasing the type of crowd that would nag at people to start a fight . \n",
       " \n",
       "  xxmaj one of the best scenes was in the \" deleted scenes \" section , the one where she 's in the principle 's office with her mom . i do n't understand why they 'd cut that . xxmaj the movie seemed desperate to make a point about anything it could and xxmaj domino talking about sororities would have been a highlight of the movie . \n",
       " \n",
       "  xxmaj ridiculous camera work is reminiscent of xxup mtv , and completely not needed or helpful to a movie . xxmaj speeding the film up just to jump past a lot of things and rotating the camera around something repeatedly got old the first time it was used . xxmaj it 's like the directors are wanting to use up all this extra footage they did n't want to throw away . \n",
       " \n",
       "  xxmaj another movie with xxmaj jerry xxmaj springer in it ? xxmaj that should 've told me not to watch it from the preview . \n",
       " \n",
       "  a popular movie for the \" in \" crowd .\n",
       "y: CategoryList\n",
       "neg,neg,neg,neg,neg\n",
       "Path: /home/user/.fastai/data/imdb;\n",
       "\n",
       "Valid: LabelList (25000 items)\n",
       "x: TextList\n",
       "xxbos * * * xxup mild xxup spoilers * * * xxmaj dear xxmaj inman , xxmaj kind words are hard to find for me to describe the movie i have just been subjected to that stars you . xxmaj the problems are far and wide and painful for me to recount . . . yet i feel i must , if only to prevent others from suffering the same anguish as i did . xxmaj this is xxup not a film for anyone under 50 , it 's sl xxrep 4 o xxrep 5 w , s xxrep 6 o slo xxrep 4 w , and when the big reunion of xxmaj ada and xxmaj inman happens . . .the biggest and most important scene in the film , xxup nothing happens , it is a epic letdown . xxmaj now , like the director should have done , i will keep my words short and end with this warning , your film is disjointed , boring , has no flow and xxmaj jude xxmaj law is tragically mis - cast , he showed more emotion as a robot in xxup a.i. - be warned , the film should be retitled . . . xxmaj bored xxmaj mountain . xxmaj love , xxmaj ada,xxbos xxmaj the film quickly gets to a major chase scene with ever increasing destruction . xxmaj the first really bad thing is the guy hijacking xxmaj steven xxmaj seagal would have been beaten to pulp by xxmaj seagal 's driving , but that probably would have ended the whole premise for the movie . \n",
       " \n",
       "  xxmaj it seems like they decided to make all kinds of changes in the movie plot , so just plan to enjoy the action , and do not expect a coherent plot . xxmaj turn any sense of logic you may have , it will reduce your chance of getting a headache . \n",
       " \n",
       "  i does give me some hope that xxmaj steven xxmaj seagal is trying to move back towards the type of characters he portrayed in his more popular movies .,xxbos i saw that this movie was coming out and could not wait to see it . i have to say i was very disappointed with it . xxmaj this would have been better as a mini - series . xxmaj the whole show seemed very rushed . xxmaj they did not explain things very clearly . xxmaj at the end they showed xxmaj john xxmaj paul xxup ii , alive and well and the next scene he was dead . xxmaj never any explanation as to what happened . ( xxmaj we all know what happened in real life ) i think xxup abc dropped the ball big time on something that could have been great . xxmaj in all i think this movie was a blur . xxmaj it seemed like a drunken monkey jumping around from one point in xxmaj john xxmaj paul 's life to another point never explaining how or why things happened . xxmaj such as when his older brother leaves , it was never explained that his brother was a doctor and that is why he left home . xxmaj also when his father dies , all we see is his father lying on the floor and that was that . i was very disappointed with the over all movie .,xxbos xxmaj one would think that with all the lavish care and expense that went into this made - for - xxup tv movie , it would reflect something of the taste and manners of the upper class couple -- xxmaj wallis xxmaj simpson and the xxmaj prince of xxmaj wales -- instead of being a mawkish , unappetizing historical romance . \n",
       " \n",
       "  xxmaj nor is it helped by the fact that xxup jane xxup seymour and xxup anthony xxup andrews give stiff , rather uncomfortable to watch performances in which the events move much too slowly to hold attention . \n",
       " \n",
       "  xxmaj it 's hard to understand why a star of xxup olivia xxup de xxup havilland 's caliber would wish to play the supporting role of xxmaj aunt xxmaj bessie since the role is so colorless she just about fades out of sight . xxmaj at this stage in her career , xxmaj olivia was appearing in so many \" nobility \" roles requiring a regal presence but nothing more . \n",
       " \n",
       "  a trivial movie best left forgotten among all the made - for - xxup tv movies of that era .,xxbos xxmaj deep xxmaj sea xxup 3d is a stunning insight in to an underwater world only a few have had the opportunity to view first hand . \n",
       " \n",
       "  xxmaj from the opening sequence when a wave rushes towards the audience momentarily engulfing us in the ocean , the filmmakers make full use of the xxup imax format . a jelly fish field appears to fill the whole theatre , a shark powers towards us , predators pounce from behind rocks and devour their prey . xxmaj it is a beautifully captured under sea feast for the eyes . \n",
       " \n",
       "  xxmaj our ears on the other hand , are not given the same treatment . xxmaj the film is narrated by xxmaj hollywood stars xxmaj jonny xxmaj depp and xxmaj kate xxmaj winslet . xxmaj both sound so ridiculous it positively spoils the enjoyment of the visuals . xxmaj depp sounds slightly bored whilst xxmaj winslet sounds as if she is reading a bedtime story to the village idiot . i was shocked that an actress of her status could have pitched her performance so wrongly . xxmaj the script is fairly silly and contains very little depth . xxmaj the soundtrack is filled with strange , unrealistic sound effects which i assume are meant to be funny but in fact detract attention from the material which should have been allowed to speak for itself . \n",
       " \n",
       "  xxmaj danny xxmaj elfman has provided an excellent score which gives plenty of impact to the ups and downs of life under the sea , when it is allowed to play out without the silly bubble sounds or xxunk xxunk which pepper film . \n",
       " \n",
       "  xxmaj the film is a technical marvel but with it 's childish script , annoying narration and misplaced sound effects it can not be taken seriously .\n",
       "y: CategoryList\n",
       "neg,neg,neg,neg,neg\n",
       "Path: /home/user/.fastai/data/imdb;\n",
       "\n",
       "Test: None, model=SequentialRNN(\n",
       "  (0): MultiBatchEncoder(\n",
       "    (module): AWD_LSTM(\n",
       "      (encoder): Embedding(60000, 400, padding_idx=1)\n",
       "      (encoder_dp): EmbeddingDropout(\n",
       "        (emb): Embedding(60000, 400, padding_idx=1)\n",
       "      )\n",
       "      (rnns): ModuleList(\n",
       "        (0): WeightDropout(\n",
       "          (module): LSTM(400, 1152, batch_first=True)\n",
       "        )\n",
       "        (1): WeightDropout(\n",
       "          (module): LSTM(1152, 1152, batch_first=True)\n",
       "        )\n",
       "        (2): WeightDropout(\n",
       "          (module): LSTM(1152, 400, batch_first=True)\n",
       "        )\n",
       "      )\n",
       "      (input_dp): RNNDropout()\n",
       "      (hidden_dps): ModuleList(\n",
       "        (0): RNNDropout()\n",
       "        (1): RNNDropout()\n",
       "        (2): RNNDropout()\n",
       "      )\n",
       "    )\n",
       "  )\n",
       "  (1): PoolingLinearClassifier(\n",
       "    (layers): Sequential(\n",
       "      (0): BatchNorm1d(1200, eps=1e-05, momentum=0.1, affine=True, track_running_stats=True)\n",
       "      (1): Dropout(p=0.2, inplace=False)\n",
       "      (2): Linear(in_features=1200, out_features=50, bias=True)\n",
       "      (3): ReLU(inplace=True)\n",
       "      (4): BatchNorm1d(50, eps=1e-05, momentum=0.1, affine=True, track_running_stats=True)\n",
       "      (5): Dropout(p=0.1, inplace=False)\n",
       "      (6): Linear(in_features=50, out_features=2, bias=True)\n",
       "    )\n",
       "  )\n",
       "), opt_func=functools.partial(<class 'torch.optim.adam.Adam'>, betas=(0.9, 0.99)), loss_func=FlattenedLoss of CrossEntropyLoss(), metrics=[<function accuracy at 0x7fd1c054c680>], true_wd=True, bn_wd=True, wd=0.01, train_bn=True, path=PosixPath('/home/user/.fastai/data/imdb'), model_dir='models', callback_fns=[functools.partial(<class 'fastai.basic_train.Recorder'>, add_time=True, silent=False)], callbacks=[RNNTrainer\n",
       "learn: ...\n",
       "alpha: 2.0\n",
       "beta: 1.0], layer_groups=[Sequential(\n",
       "  (0): Embedding(60000, 400, padding_idx=1)\n",
       "  (1): EmbeddingDropout(\n",
       "    (emb): Embedding(60000, 400, padding_idx=1)\n",
       "  )\n",
       "), Sequential(\n",
       "  (0): WeightDropout(\n",
       "    (module): LSTM(400, 1152, batch_first=True)\n",
       "  )\n",
       "  (1): RNNDropout()\n",
       "), Sequential(\n",
       "  (0): WeightDropout(\n",
       "    (module): LSTM(1152, 1152, batch_first=True)\n",
       "  )\n",
       "  (1): RNNDropout()\n",
       "), Sequential(\n",
       "  (0): WeightDropout(\n",
       "    (module): LSTM(1152, 400, batch_first=True)\n",
       "  )\n",
       "  (1): RNNDropout()\n",
       "), Sequential(\n",
       "  (0): PoolingLinearClassifier(\n",
       "    (layers): Sequential(\n",
       "      (0): BatchNorm1d(1200, eps=1e-05, momentum=0.1, affine=True, track_running_stats=True)\n",
       "      (1): Dropout(p=0.2, inplace=False)\n",
       "      (2): Linear(in_features=1200, out_features=50, bias=True)\n",
       "      (3): ReLU(inplace=True)\n",
       "      (4): BatchNorm1d(50, eps=1e-05, momentum=0.1, affine=True, track_running_stats=True)\n",
       "      (5): Dropout(p=0.1, inplace=False)\n",
       "      (6): Linear(in_features=50, out_features=2, bias=True)\n",
       "    )\n",
       "  )\n",
       ")], add_time=True, silent=False)"
      ]
     },
     "execution_count": 37,
     "metadata": {},
     "output_type": "execute_result"
    }
   ],
   "source": [
    "# 이번엔 Language Model Learner가 아닌 classifier Learner를 불러온다. fastai가 제공하는 NLP learner들은 Learner class에서 init model을 할때 불러오는 learner의 이름에 따라 다른 세팅으로 모델을 불러온다.\n",
    "# 요새 NLP의 트렌드는 pretrained model을 불러와서 해당 downstream task에 fine-tuning해서 사용하는 방식이다. 아까 만든 LM을 불러와서 classifier를 만들어보자.\n",
    "learn = text_classifier_learner(data_clas, AWD_LSTM, drop_mult=0.5)\n",
    "learn.load_encoder('fine_tuned_enc') # 아까 위에서 만든 LM을 불러온다. # pretrained model."
   ]
  },
  {
   "cell_type": "code",
   "execution_count": 38,
   "metadata": {},
   "outputs": [
    {
     "data": {
      "text/html": [
       "\n",
       "    <div>\n",
       "        <style>\n",
       "            /* Turns off some styling */\n",
       "            progress {\n",
       "                /* gets rid of default border in Firefox and Opera. */\n",
       "                border: none;\n",
       "                /* Needs to be in here for Safari polyfill so background images work as expected. */\n",
       "                background-size: auto;\n",
       "            }\n",
       "            .progress-bar-interrupted, .progress-bar-interrupted::-webkit-progress-bar {\n",
       "                background: #F44336;\n",
       "            }\n",
       "        </style>\n",
       "      <progress value='0' class='' max='1', style='width:300px; height:20px; vertical-align: middle;'></progress>\n",
       "      0.00% [0/1 00:00<00:00]\n",
       "    </div>\n",
       "    \n",
       "<table border=\"1\" class=\"dataframe\">\n",
       "  <thead>\n",
       "    <tr style=\"text-align: left;\">\n",
       "      <th>epoch</th>\n",
       "      <th>train_loss</th>\n",
       "      <th>valid_loss</th>\n",
       "      <th>accuracy</th>\n",
       "      <th>time</th>\n",
       "    </tr>\n",
       "  </thead>\n",
       "  <tbody>\n",
       "  </tbody>\n",
       "</table><p>\n",
       "\n",
       "    <div>\n",
       "        <style>\n",
       "            /* Turns off some styling */\n",
       "            progress {\n",
       "                /* gets rid of default border in Firefox and Opera. */\n",
       "                border: none;\n",
       "                /* Needs to be in here for Safari polyfill so background images work as expected. */\n",
       "                background-size: auto;\n",
       "            }\n",
       "            .progress-bar-interrupted, .progress-bar-interrupted::-webkit-progress-bar {\n",
       "                background: #F44336;\n",
       "            }\n",
       "        </style>\n",
       "      <progress value='94' class='' max='520', style='width:300px; height:20px; vertical-align: middle;'></progress>\n",
       "      18.08% [94/520 00:26<01:59 1.9913]\n",
       "    </div>\n",
       "    "
      ],
      "text/plain": [
       "<IPython.core.display.HTML object>"
      ]
     },
     "metadata": {},
     "output_type": "display_data"
    },
    {
     "name": "stdout",
     "output_type": "stream",
     "text": [
      "LR Finder is complete, type {learner_name}.recorder.plot() to see the graph.\n"
     ]
    }
   ],
   "source": [
    "learn.lr_find()"
   ]
  },
  {
   "cell_type": "code",
   "execution_count": 39,
   "metadata": {},
   "outputs": [
    {
     "data": {
      "image/png": "[encoded data removed]",
      "text/plain": [
       "<Figure size 432x288 with 1 Axes>"
      ]
     },
     "metadata": {
      "needs_background": "light"
     },
     "output_type": "display_data"
    }
   ],
   "source": [
    "learn.recorder.plot()"
   ]
  },
  {
   "cell_type": "code",
   "execution_count": 51,
   "metadata": {},
   "outputs": [
    {
     "data": {
      "text/html": [
       "<table border=\"1\" class=\"dataframe\">\n",
       "  <thead>\n",
       "    <tr style=\"text-align: left;\">\n",
       "      <th>epoch</th>\n",
       "      <th>train_loss</th>\n",
       "      <th>valid_loss</th>\n",
       "      <th>accuracy</th>\n",
       "      <th>time</th>\n",
       "    </tr>\n",
       "  </thead>\n",
       "  <tbody>\n",
       "    <tr>\n",
       "      <td>0</td>\n",
       "      <td>0.236023</td>\n",
       "      <td>0.243361</td>\n",
       "      <td>0.909560</td>\n",
       "      <td>03:37</td>\n",
       "    </tr>\n",
       "  </tbody>\n",
       "</table>"
      ],
      "text/plain": [
       "<IPython.core.display.HTML object>"
      ]
     },
     "metadata": {},
     "output_type": "display_data"
    }
   ],
   "source": [
    "#learn.fit_one_cycle(1, 2e-2, moms=(0.8,0.7))\n",
    "learn.fit_one_cycle(1, 2e-2, moms=(0.99, 0.9)) # hyperparamter를 조금 바꿔보자."
   ]
  },
  {
   "cell_type": "code",
   "execution_count": 52,
   "metadata": {},
   "outputs": [],
   "source": [
    "#learn.save('first')\n",
    "learn.save('first_edit')"
   ]
  },
  {
   "cell_type": "code",
   "execution_count": 53,
   "metadata": {},
   "outputs": [
    {
     "data": {
      "text/plain": [
       "RNNLearner(data=TextClasDataBunch;\n",
       "\n",
       "Train: LabelList (25000 items)\n",
       "x: TextList\n",
       "xxbos xxup star xxup rating : xxrep 5 * xxmaj saturday xxmaj night xxrep 4 * xxmaj friday xxmaj night * * * xxmaj friday xxmaj morning * * xxmaj sunday xxmaj night * xxmaj monday xxmaj morning \n",
       " \n",
       "  xxmaj james xxmaj dial ( xxmaj wesley xxmaj snipes ) is hiding out on his ranch in xxmaj montana after failing to capture a notorious terrorist . xxmaj then he 's approached by the agency again to travel to xxmaj london to have another go . xxmaj his target has been apprehended there and is under heavy police xxunk but they do n't want him merely to capture their man- they want him taken out . xxmaj all goes well but then the mission gets botched and when a senior police chief , xxmaj windsor ( xxmaj charles xxmaj dance ) is killed , the blame falls at xxmaj dial 's feet . xxmaj hunted like an animal , he takes refuge in a nearby house and befriends a young girl named xxmaj emily ( xxmaj eliza xxmaj bennett ) who 's dealing with issues of her own and becomes his unwitting sidekick as he goes about clearing his name and working out who betrayed him . \n",
       " \n",
       "  xxmaj this latest xxmaj snipes straight to xxup dvd escapade came out of nowhere , with a minimal of publicity even for something so small time ( i do n't recall seeing any advertisements or trailers for it anywhere . ) xxmaj with this in mind and after xxmaj snipes 's history of duff xxup dvd efforts , this might have seemed like one which xxmaj snoop xxmaj dawg would tell you to drop like it 's hot . xxmaj but i felt compelled to give it a go anyway . xxmaj it does n't rank among his worst , but it does n't reach any higher than the standards of some of his better ones ( xxmaj the xxmaj detonator , 7 xxmaj seconds , says it all , really ) , either . \n",
       " \n",
       "  xxmaj this is , at best , mildly suspenseful , with a minimal of action , naff all in the way of cool dialogue and xxmaj snipes not exactly at his best in the lead role . xxmaj likewise , in a main supporting role , it 's quite clear xxmaj dance has only showed up for the pay cheque as well and this is generally one that none of the cast are going to shout for the hills about on any of their cvs . \n",
       " \n",
       "  xxmaj it says a lot that by the end the only ' contract ' that 's keeping you interested is when xxmaj snipes 's will end with xxmaj sony and with it an end to any further sub par xxup el xxup dvd action films . * *,xxbos xxmaj the plot was predictable , and fighting with guns gets old , but this is a definate movie to look at if you have a low xxup iq and do n't really care about real movies . i would xxunk in true art movies , like ' xxmaj clerks ' , ' xxmaj something about xxmaj mary ' , ' xxmaj el xxmaj mariachi ' , or ' xxmaj la xxmaj xxunk ' .,xxbos i can not believe the same guy directed this crap and xxmaj dracula 2000 . xxmaj dracula 2000 was innovative , fresh , and well written , if poorly acted . \n",
       " \n",
       "  xxmaj this pile ca n't even claim that . xxmaj it starts with the defeat of xxmaj dracula at the end of xxmaj dracula 2000 . xxmaj then ignores the narrative afterwards describing what happened after that . xxmaj following the narrative properly could have made this a good sequel somehow , but xxmaj craven chose to go in the style of his older films , having no good tie but the main villain 's name . \n",
       " \n",
       "  xxmaj even the actor playing xxmaj dracula was different ( going from dark hair in xxmaj dracula 2000 to a blonde here ) . \n",
       " \n",
       "  xxmaj avoid this movie if you have any respect for your taste in movies .,xxbos xxmaj now do n't get me wrong . xxmaj if you need an insightful summary of everything that been wrong with the history of human civilization as well as a flawless path to brighter future for mankind , who better to turn to than a comedian and practitioner of pop culture ? xxmaj if you need a healthy dose of all the solid , sound reasons why religion has outlived it 's usefulness then turn to xxmaj sagan or xxmaj dawkins , not xxup bill xxup maher for xxmaj god 's ( ? ) sake ! xxmaj that 's a good point in and of itself . xxmaj maher dismisses our religious past as a neurological disorder conveniently ignoring how his entire society , art and science is rooted in it . \n",
       " \n",
       "  xxmaj in this film , he relies heavily on his keenly - honed skill set of irony and cynicism to make his point while attempting to appear erudite and wise . xxmaj unfortunately , his intellect is n't up to the task . \n",
       " \n",
       "  xxmaj maher makes us laugh but is clearly not the brightest bulb in the box . xxmaj as an example , he responds to an interviewee 's ( and i use the term loosely as they were clearly all \" xxunk \" ) assertion that the existence of xxmaj jesus is historical fact with a deadpan \" xxmaj no , it 's not \" followed by a long stare meant to convey contempt at the subject 's naivety ( a device nauseatingly overused in this film ) . xxmaj the problem is that the person was correct and xxmaj maher dead wrong in his assertion that xxmaj jesus is mentioned only in what he considers to be the xxunk suspect gospels . i guess xxmaj mr. xxmaj maher has never read the contemporary historian xxmaj xxunk . \n",
       " \n",
       "  xxmaj but the masses will flock to this pseudo - documentary as they do the fictional works of other intellectual giants like xxmaj michael xxmaj moore , and they will loudly bray and guffaw ( they certainly did at my showing ) . \n",
       " \n",
       "  xxmaj it 's doubly telling , however , that the loudest and most mule - like braying occurred during the approximately 70 % of the running time that the film devoted to it 's anti - xxmaj christian tirade while the audience was wholly mute during the token 10 % devoted to criticizing the self - described xxmaj religion of xxmaj peace . xxmaj hmmm . xxmaj either criticism of xxmaj islam is off - limits to the hip and liberal target audience or they were just afraid to laugh . xxmaj very telling , either way ..,xxbos xxmaj repetitive music , annoying narration , terrible cinematography effects . xxmaj half of the plot seemed centered around shock value and the other half seemed to be focused on appeasing the type of crowd that would nag at people to start a fight . \n",
       " \n",
       "  xxmaj one of the best scenes was in the \" deleted scenes \" section , the one where she 's in the principle 's office with her mom . i do n't understand why they 'd cut that . xxmaj the movie seemed desperate to make a point about anything it could and xxmaj domino talking about sororities would have been a highlight of the movie . \n",
       " \n",
       "  xxmaj ridiculous camera work is reminiscent of xxup mtv , and completely not needed or helpful to a movie . xxmaj speeding the film up just to jump past a lot of things and rotating the camera around something repeatedly got old the first time it was used . xxmaj it 's like the directors are wanting to use up all this extra footage they did n't want to throw away . \n",
       " \n",
       "  xxmaj another movie with xxmaj jerry xxmaj springer in it ? xxmaj that should 've told me not to watch it from the preview . \n",
       " \n",
       "  a popular movie for the \" in \" crowd .\n",
       "y: CategoryList\n",
       "neg,neg,neg,neg,neg\n",
       "Path: /home/user/.fastai/data/imdb;\n",
       "\n",
       "Valid: LabelList (25000 items)\n",
       "x: TextList\n",
       "xxbos * * * xxup mild xxup spoilers * * * xxmaj dear xxmaj inman , xxmaj kind words are hard to find for me to describe the movie i have just been subjected to that stars you . xxmaj the problems are far and wide and painful for me to recount . . . yet i feel i must , if only to prevent others from suffering the same anguish as i did . xxmaj this is xxup not a film for anyone under 50 , it 's sl xxrep 4 o xxrep 5 w , s xxrep 6 o slo xxrep 4 w , and when the big reunion of xxmaj ada and xxmaj inman happens . . .the biggest and most important scene in the film , xxup nothing happens , it is a epic letdown . xxmaj now , like the director should have done , i will keep my words short and end with this warning , your film is disjointed , boring , has no flow and xxmaj jude xxmaj law is tragically mis - cast , he showed more emotion as a robot in xxup a.i. - be warned , the film should be retitled . . . xxmaj bored xxmaj mountain . xxmaj love , xxmaj ada,xxbos xxmaj the film quickly gets to a major chase scene with ever increasing destruction . xxmaj the first really bad thing is the guy hijacking xxmaj steven xxmaj seagal would have been beaten to pulp by xxmaj seagal 's driving , but that probably would have ended the whole premise for the movie . \n",
       " \n",
       "  xxmaj it seems like they decided to make all kinds of changes in the movie plot , so just plan to enjoy the action , and do not expect a coherent plot . xxmaj turn any sense of logic you may have , it will reduce your chance of getting a headache . \n",
       " \n",
       "  i does give me some hope that xxmaj steven xxmaj seagal is trying to move back towards the type of characters he portrayed in his more popular movies .,xxbos i saw that this movie was coming out and could not wait to see it . i have to say i was very disappointed with it . xxmaj this would have been better as a mini - series . xxmaj the whole show seemed very rushed . xxmaj they did not explain things very clearly . xxmaj at the end they showed xxmaj john xxmaj paul xxup ii , alive and well and the next scene he was dead . xxmaj never any explanation as to what happened . ( xxmaj we all know what happened in real life ) i think xxup abc dropped the ball big time on something that could have been great . xxmaj in all i think this movie was a blur . xxmaj it seemed like a drunken monkey jumping around from one point in xxmaj john xxmaj paul 's life to another point never explaining how or why things happened . xxmaj such as when his older brother leaves , it was never explained that his brother was a doctor and that is why he left home . xxmaj also when his father dies , all we see is his father lying on the floor and that was that . i was very disappointed with the over all movie .,xxbos xxmaj one would think that with all the lavish care and expense that went into this made - for - xxup tv movie , it would reflect something of the taste and manners of the upper class couple -- xxmaj wallis xxmaj simpson and the xxmaj prince of xxmaj wales -- instead of being a mawkish , unappetizing historical romance . \n",
       " \n",
       "  xxmaj nor is it helped by the fact that xxup jane xxup seymour and xxup anthony xxup andrews give stiff , rather uncomfortable to watch performances in which the events move much too slowly to hold attention . \n",
       " \n",
       "  xxmaj it 's hard to understand why a star of xxup olivia xxup de xxup havilland 's caliber would wish to play the supporting role of xxmaj aunt xxmaj bessie since the role is so colorless she just about fades out of sight . xxmaj at this stage in her career , xxmaj olivia was appearing in so many \" nobility \" roles requiring a regal presence but nothing more . \n",
       " \n",
       "  a trivial movie best left forgotten among all the made - for - xxup tv movies of that era .,xxbos xxmaj deep xxmaj sea xxup 3d is a stunning insight in to an underwater world only a few have had the opportunity to view first hand . \n",
       " \n",
       "  xxmaj from the opening sequence when a wave rushes towards the audience momentarily engulfing us in the ocean , the filmmakers make full use of the xxup imax format . a jelly fish field appears to fill the whole theatre , a shark powers towards us , predators pounce from behind rocks and devour their prey . xxmaj it is a beautifully captured under sea feast for the eyes . \n",
       " \n",
       "  xxmaj our ears on the other hand , are not given the same treatment . xxmaj the film is narrated by xxmaj hollywood stars xxmaj jonny xxmaj depp and xxmaj kate xxmaj winslet . xxmaj both sound so ridiculous it positively spoils the enjoyment of the visuals . xxmaj depp sounds slightly bored whilst xxmaj winslet sounds as if she is reading a bedtime story to the village idiot . i was shocked that an actress of her status could have pitched her performance so wrongly . xxmaj the script is fairly silly and contains very little depth . xxmaj the soundtrack is filled with strange , unrealistic sound effects which i assume are meant to be funny but in fact detract attention from the material which should have been allowed to speak for itself . \n",
       " \n",
       "  xxmaj danny xxmaj elfman has provided an excellent score which gives plenty of impact to the ups and downs of life under the sea , when it is allowed to play out without the silly bubble sounds or xxunk xxunk which pepper film . \n",
       " \n",
       "  xxmaj the film is a technical marvel but with it 's childish script , annoying narration and misplaced sound effects it can not be taken seriously .\n",
       "y: CategoryList\n",
       "neg,neg,neg,neg,neg\n",
       "Path: /home/user/.fastai/data/imdb;\n",
       "\n",
       "Test: None, model=SequentialRNN(\n",
       "  (0): MultiBatchEncoder(\n",
       "    (module): AWD_LSTM(\n",
       "      (encoder): Embedding(60000, 400, padding_idx=1)\n",
       "      (encoder_dp): EmbeddingDropout(\n",
       "        (emb): Embedding(60000, 400, padding_idx=1)\n",
       "      )\n",
       "      (rnns): ModuleList(\n",
       "        (0): WeightDropout(\n",
       "          (module): LSTM(400, 1152, batch_first=True)\n",
       "        )\n",
       "        (1): WeightDropout(\n",
       "          (module): LSTM(1152, 1152, batch_first=True)\n",
       "        )\n",
       "        (2): WeightDropout(\n",
       "          (module): LSTM(1152, 400, batch_first=True)\n",
       "        )\n",
       "      )\n",
       "      (input_dp): RNNDropout()\n",
       "      (hidden_dps): ModuleList(\n",
       "        (0): RNNDropout()\n",
       "        (1): RNNDropout()\n",
       "        (2): RNNDropout()\n",
       "      )\n",
       "    )\n",
       "  )\n",
       "  (1): PoolingLinearClassifier(\n",
       "    (layers): Sequential(\n",
       "      (0): BatchNorm1d(1200, eps=1e-05, momentum=0.1, affine=True, track_running_stats=True)\n",
       "      (1): Dropout(p=0.2, inplace=False)\n",
       "      (2): Linear(in_features=1200, out_features=50, bias=True)\n",
       "      (3): ReLU(inplace=True)\n",
       "      (4): BatchNorm1d(50, eps=1e-05, momentum=0.1, affine=True, track_running_stats=True)\n",
       "      (5): Dropout(p=0.1, inplace=False)\n",
       "      (6): Linear(in_features=50, out_features=2, bias=True)\n",
       "    )\n",
       "  )\n",
       "), opt_func=functools.partial(<class 'torch.optim.adam.Adam'>, betas=(0.9, 0.99)), loss_func=FlattenedLoss of CrossEntropyLoss(), metrics=[<function accuracy at 0x7fd1c054c680>], true_wd=True, bn_wd=True, wd=0.01, train_bn=True, path=PosixPath('/home/user/.fastai/data/imdb'), model_dir='models', callback_fns=[functools.partial(<class 'fastai.basic_train.Recorder'>, add_time=True, silent=False)], callbacks=[RNNTrainer\n",
       "learn: ...\n",
       "alpha: 2.0\n",
       "beta: 1.0], layer_groups=[Sequential(\n",
       "  (0): Embedding(60000, 400, padding_idx=1)\n",
       "  (1): EmbeddingDropout(\n",
       "    (emb): Embedding(60000, 400, padding_idx=1)\n",
       "  )\n",
       "), Sequential(\n",
       "  (0): WeightDropout(\n",
       "    (module): LSTM(400, 1152, batch_first=True)\n",
       "  )\n",
       "  (1): RNNDropout()\n",
       "), Sequential(\n",
       "  (0): WeightDropout(\n",
       "    (module): LSTM(1152, 1152, batch_first=True)\n",
       "  )\n",
       "  (1): RNNDropout()\n",
       "), Sequential(\n",
       "  (0): WeightDropout(\n",
       "    (module): LSTM(1152, 400, batch_first=True)\n",
       "  )\n",
       "  (1): RNNDropout()\n",
       "), Sequential(\n",
       "  (0): PoolingLinearClassifier(\n",
       "    (layers): Sequential(\n",
       "      (0): BatchNorm1d(1200, eps=1e-05, momentum=0.1, affine=True, track_running_stats=True)\n",
       "      (1): Dropout(p=0.2, inplace=False)\n",
       "      (2): Linear(in_features=1200, out_features=50, bias=True)\n",
       "      (3): ReLU(inplace=True)\n",
       "      (4): BatchNorm1d(50, eps=1e-05, momentum=0.1, affine=True, track_running_stats=True)\n",
       "      (5): Dropout(p=0.1, inplace=False)\n",
       "      (6): Linear(in_features=50, out_features=2, bias=True)\n",
       "    )\n",
       "  )\n",
       ")], add_time=True, silent=False)"
      ]
     },
     "execution_count": 53,
     "metadata": {},
     "output_type": "execute_result"
    }
   ],
   "source": [
    "#learn.load('first');\n",
    "learn.load('first_edit')"
   ]
  },
  {
   "cell_type": "code",
   "execution_count": 54,
   "metadata": {},
   "outputs": [
    {
     "data": {
      "text/html": [
       "<table border=\"1\" class=\"dataframe\">\n",
       "  <thead>\n",
       "    <tr style=\"text-align: left;\">\n",
       "      <th>epoch</th>\n",
       "      <th>train_loss</th>\n",
       "      <th>valid_loss</th>\n",
       "      <th>accuracy</th>\n",
       "      <th>time</th>\n",
       "    </tr>\n",
       "  </thead>\n",
       "  <tbody>\n",
       "    <tr>\n",
       "      <td>0</td>\n",
       "      <td>0.143296</td>\n",
       "      <td>0.255684</td>\n",
       "      <td>0.910400</td>\n",
       "      <td>04:02</td>\n",
       "    </tr>\n",
       "  </tbody>\n",
       "</table>"
      ],
      "text/plain": [
       "<IPython.core.display.HTML object>"
      ]
     },
     "metadata": {},
     "output_type": "display_data"
    }
   ],
   "source": [
    "learn.freeze_to(-2) # 마지막 2개의 layer만 parameter updata의 대상이 된다. (그 앞의 layer들은 전부다 freeze)\n",
    "#learn.fit_one_cycle(1, slice(1e-2/(2.6**4),1e-2), moms=(0.8,0.7))\n",
    "learn.fit_one_cycle(1, slice(1e-2/(2.6**4),1e-2), moms=(0.99,0.9))"
   ]
  },
  {
   "cell_type": "code",
   "execution_count": 55,
   "metadata": {},
   "outputs": [],
   "source": [
    "#learn.save('second')\n",
    "learn.save('second_edit')"
   ]
  },
  {
   "cell_type": "code",
   "execution_count": 56,
   "metadata": {},
   "outputs": [],
   "source": [
    "#learn.load('second');\n",
    "learn.load('second_edit');"
   ]
  },
  {
   "cell_type": "code",
   "execution_count": 57,
   "metadata": {},
   "outputs": [
    {
     "data": {
      "text/html": [
       "<table border=\"1\" class=\"dataframe\">\n",
       "  <thead>\n",
       "    <tr style=\"text-align: left;\">\n",
       "      <th>epoch</th>\n",
       "      <th>train_loss</th>\n",
       "      <th>valid_loss</th>\n",
       "      <th>accuracy</th>\n",
       "      <th>time</th>\n",
       "    </tr>\n",
       "  </thead>\n",
       "  <tbody>\n",
       "    <tr>\n",
       "      <td>0</td>\n",
       "      <td>0.127288</td>\n",
       "      <td>0.250797</td>\n",
       "      <td>0.908320</td>\n",
       "      <td>03:16</td>\n",
       "    </tr>\n",
       "  </tbody>\n",
       "</table>"
      ],
      "text/plain": [
       "<IPython.core.display.HTML object>"
      ]
     },
     "metadata": {},
     "output_type": "display_data"
    }
   ],
   "source": [
    "learn.freeze_to(-3) # 이번엔 마지막 3개의 layer를 update 해보자. layer가 많이 업데이트될수록, 학습 연산량은 늘어나지만, (일반적으로) 성능은 좋아진다.\n",
    "#learn.fit_one_cycle(1, slice(5e-3/(2.6**4),5e-3), moms=(0.8,0.7))\n",
    "learn.fit_one_cycle(1, slice(5e-3/(2.6**4),5e-3), moms=(0.99,0.9))"
   ]
  },
  {
   "cell_type": "code",
   "execution_count": 58,
   "metadata": {},
   "outputs": [],
   "source": [
    "#learn.save('third')\n",
    "learn.save('third_edit')"
   ]
  },
  {
   "cell_type": "code",
   "execution_count": 59,
   "metadata": {},
   "outputs": [],
   "source": [
    "#learn.load('third');\n",
    "learn.load('third_edit');"
   ]
  },
  {
   "cell_type": "markdown",
   "metadata": {},
   "source": [
    "#### * accuracy가 떨어지는 것을 확인하였다. 94% -> 91%. 기본 세팅되어있는 moms가 optimal 가까운 것을 알 수 있다."
   ]
  },
  {
   "cell_type": "code",
   "execution_count": 60,
   "metadata": {},
   "outputs": [
    {
     "data": {
      "text/html": [
       "<table border=\"1\" class=\"dataframe\">\n",
       "  <thead>\n",
       "    <tr style=\"text-align: left;\">\n",
       "      <th>epoch</th>\n",
       "      <th>train_loss</th>\n",
       "      <th>valid_loss</th>\n",
       "      <th>accuracy</th>\n",
       "      <th>time</th>\n",
       "    </tr>\n",
       "  </thead>\n",
       "  <tbody>\n",
       "    <tr>\n",
       "      <td>0</td>\n",
       "      <td>0.150544</td>\n",
       "      <td>0.245080</td>\n",
       "      <td>0.903880</td>\n",
       "      <td>03:51</td>\n",
       "    </tr>\n",
       "    <tr>\n",
       "      <td>1</td>\n",
       "      <td>0.121545</td>\n",
       "      <td>0.239538</td>\n",
       "      <td>0.910720</td>\n",
       "      <td>03:35</td>\n",
       "    </tr>\n",
       "  </tbody>\n",
       "</table>"
      ],
      "text/plain": [
       "<IPython.core.display.HTML object>"
      ]
     },
     "metadata": {},
     "output_type": "display_data"
    }
   ],
   "source": [
    "learn.unfreeze()\n",
    "#learn.fit_one_cycle(2, slice(1e-3/(2.6**4),1e-3), moms=(0.8,0.7))\n",
    "learn.fit_one_cycle(2, slice(1e-3/(2.6**4),1e-3), moms=(0.99,0.9))"
   ]
  },
  {
   "cell_type": "code",
   "execution_count": 50,
   "metadata": {},
   "outputs": [
    {
     "data": {
      "text/plain": [
       "(Category pos, tensor(1), tensor([7.9091e-05, 9.9992e-01]))"
      ]
     },
     "execution_count": 50,
     "metadata": {},
     "output_type": "execute_result"
    }
   ],
   "source": [
    "# 이전 결과\n",
    "learn.predict(\"I really loved that movie, it was awesome!\")"
   ]
  },
  {
   "cell_type": "code",
   "execution_count": 61,
   "metadata": {},
   "outputs": [
    {
     "data": {
      "text/plain": [
       "(Category pos, tensor(1), tensor([8.4620e-04, 9.9915e-01]))"
      ]
     },
     "execution_count": 61,
     "metadata": {},
     "output_type": "execute_result"
    }
   ],
   "source": [
    "# momentum parameter 변경 후 결과\n",
    "learn.predict(\"I really loved that movie, it was awesome!\")"
   ]
  },
  {
   "cell_type": "markdown",
   "metadata": {},
   "source": [
    "## Comment:\n",
    "\n",
    "- IMDB는 NLP에서 가장 널리 사용되는 데이터셋인데, fastai에서 제공하는 NLP library를 사용하면 굉장히 쉽게 사용할 수 있어서 좋았다.\n",
    "- 하지만 vision과는 달리 NLP는 기본 모델 제공되는 것으로 높은 성능이 나오지는 않아서 사용하기 힘들다고 알려져 있는데, AWD-LSTM만으로 94% acc가 나오는것이 굉장히 신기했다.\n",
    "- 한국어의 경우엔 NSMC(Naver Sentiment Movie Corpus)가 있는데, 현재 공개된 코드중에 max가 92%로 알려져있다.\n",
    "- fastai 모델을 통해 NSMC를 사용해보는 것도 재밌을 것 같다. AWD-LSTM 말고도 Transformer들도 제공하기 때문에, 손쉽게 구현가능할 것 같다."
   ]
  },
  {
   "cell_type": "code",
   "execution_count": null,
   "metadata": {},
   "outputs": [],
   "source": []
  }
 ],
 "metadata": {
  "kernelspec": {
   "display_name": "Python 3",
   "language": "python",
   "name": "python3"
  },
  "language_info": {
   "codemirror_mode": {
    "name": "ipython",
    "version": 3
   },
   "file_extension": ".py",
   "mimetype": "text/x-python",
   "name": "python",
   "nbconvert_exporter": "python",
   "pygments_lexer": "ipython3",
   "version": "3.7.6"
  }
 },
 "nbformat": 4,
 "nbformat_minor": 2
}
